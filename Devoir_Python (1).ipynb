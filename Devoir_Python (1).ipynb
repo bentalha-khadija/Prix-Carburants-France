{
  "nbformat": 4,
  "nbformat_minor": 0,
  "metadata": {
    "colab": {
      "provenance": []
    },
    "kernelspec": {
      "name": "python3",
      "display_name": "Python 3"
    },
    "language_info": {
      "name": "python"
    }
  },
  "cells": [
    {
      "cell_type": "markdown",
      "source": [
        "### **TP réalisé par :**\n",
        "- **Khadija Ben talha**\n",
        "- **Pélagie Abiré Poko**\n",
        "- **Oumaima Laghlid**\n"
      ],
      "metadata": {
        "id": "dlbeTGwgrmtK"
      }
    },
    {
      "cell_type": "markdown",
      "source": [
        "#**Analyse des Prix des Carburants en France**"
      ],
      "metadata": {
        "id": "_SbaXRTlrZXG"
      }
    },
    {
      "cell_type": "markdown",
      "source": [
        "## **Introduction**\n",
        "Dans ce notebook, nous allons explorer et visualiser les données des prix des carburants en France, disponibles sur le site officiel du gouvernement français."
      ],
      "metadata": {
        "id": "B0VBCRaNrfVK"
      }
    },
    {
      "cell_type": "markdown",
      "source": [
        "## 1/ Collecte des Données\n",
        "\n",
        "Pour commencer, nous devons collecter les données open source des prix de carburants de l'année 2007 à 2022 à partir du site officiel du gouvernement français. Les données sont disponibles à l'adresse suivante : [Lien vers les données](https://www.prix-carburants.gouv.fr/rubrique/opendata/)."
      ],
      "metadata": {
        "id": "eYqubmhqrspb"
      }
    },
    {
      "cell_type": "markdown",
      "source": [
        "### Importation des librairies nécessaire"
      ],
      "metadata": {
        "id": "cTpIS_G5K2Bo"
      }
    },
    {
      "cell_type": "code",
      "source": [
        "import requests # Importer la bibliothèque requests pour effectuer des requêtes HTTP\n",
        "import zipfile # Importer la bibliothèque zipfile pour gérer les fichiers ZIP\n",
        "import xml.etree.ElementTree as ET # Importer la bibliothèque ElementTree pour traiter des fichiers XML\n",
        "import pandas as pd # Importer la bibliothèque pandas pour la manipulation de données tabulaires\n",
        "from io import BytesIO # Importer BytesIO pour travailler avec des données en mémoire\n",
        "import pandas as pd\n",
        "import xml.etree.ElementTree as ET\n",
        "import urllib.request\n",
        "import matplotlib.pyplot as plt\n",
        "import seaborn as sns\n",
        "import warnings\n",
        "warnings.filterwarnings('ignore')"
      ],
      "metadata": {
        "id": "n7qur0le3D06"
      },
      "execution_count": 1,
      "outputs": []
    },
    {
      "cell_type": "markdown",
      "source": [
        "On scrappe les donées de chaque année directement à partir du site, au raison de la complexité spatiale on traite juste les années de 2007 jusqu'à 2015"
      ],
      "metadata": {
        "id": "og4SbKIsQs7g"
      }
    },
    {
      "cell_type": "code",
      "source": [
        "# Années de 2007 à 2022\n",
        "annees = range(2007, 2015)\n",
        "\n",
        "# Créer une liste pour stocker les DataFrames de chaque année\n",
        "dfs = []\n",
        "\n",
        "# Boucle sur les années\n",
        "for annee in annees:\n",
        "    # Construisez l'URL et le nom de fichier correspondants pour chaque année\n",
        "    zip_url = f\"https://donnees.roulez-eco.fr/opendata/annee/{annee}\"\n",
        "    xml_file_name = f\"PrixCarburants_annuel_{annee}.xml\"\n",
        "\n",
        "    # Effectuez une requête HTTP pour obtenir le contenu du fichier ZIP\n",
        "    response = requests.get(zip_url)\n",
        "\n",
        "    # Vérifiez si la requête a réussi (statut 200)\n",
        "    if response.status_code == 200:\n",
        "        # Lisez le contenu du fichier ZIP depuis la réponse HTTP\n",
        "        with zipfile.ZipFile(BytesIO(response.content), \"r\") as zip_file:\n",
        "            # Recherchez le fichier XML dans le ZIP (ajustez le nom du fichier si nécessaire)\n",
        "            if xml_file_name in zip_file.namelist():\n",
        "                # Extrayez le fichier XML du ZIP\n",
        "                with zip_file.open(xml_file_name) as xml_file:\n",
        "                    # Analysez le contenu XML\n",
        "                    root = ET.fromstring(xml_file.read())\n",
        "\n",
        "                    # Parcourez les balises \"prix\" et extrayez les attributs\n",
        "                    data = []\n",
        "\n",
        "                    for prix in root.findall(\".//prix\"):\n",
        "                        row = {}\n",
        "                        row[\"nom\"] = prix.get(\"nom\")\n",
        "                        row[\"id\"] = prix.get(\"id\")\n",
        "                        row[\"maj\"] = prix.get(\"maj\")\n",
        "                        row[\"valeur\"] = prix.get(\"valeur\")\n",
        "                        data.append(row)\n",
        "\n",
        "                    # Convertissez la liste de dictionnaires en DataFrame\n",
        "                    df = pd.DataFrame(data)\n",
        "\n",
        "                    # Ajoutez le DataFrame de l'année à la liste\n",
        "                    dfs.append(df)\n",
        "            else:\n",
        "                print(f\"Le fichier XML n'a pas été trouvé dans le ZIP pour l'année {annee}.\")\n",
        "    else:\n",
        "        print(f\"La requête HTTP a échoué avec le statut {response.status_code} pour l'année {annee}.\")\n",
        "\n",
        "# Concaténez tous les DataFrames en un seul DataFrame final\n",
        "df_final = pd.concat(dfs, ignore_index=True)\n",
        "\n",
        "# Affichez le DataFrame final\n",
        "df_final"
      ],
      "metadata": {
        "id": "4wuoWJVTpoa0",
        "colab": {
          "base_uri": "https://localhost:8080/",
          "height": 423
        },
        "outputId": "b7a35a07-f5b8-482d-e4e6-07c0fd98ec45"
      },
      "execution_count": 2,
      "outputs": [
        {
          "output_type": "execute_result",
          "data": {
            "text/plain": [
              "             nom    id                         maj valeur\n",
              "0         Gazole     1  2007-01-04 18:43:38.841521    999\n",
              "1         Gazole     1  2007-01-09 08:32:48.501587    999\n",
              "2         Gazole     1  2007-01-12 08:42:13.582039    989\n",
              "3         Gazole     1  2007-01-16 16:18:28.004618    988\n",
              "4         Gazole     1  2007-01-17 09:16:37.487625    988\n",
              "...          ...   ...                         ...    ...\n",
              "13001592    SP98     6         2014-12-24 05:52:33   1333\n",
              "13001593    SP98     6         2014-12-26 06:53:16   1329\n",
              "13001594    SP98     6         2014-12-29 08:18:04   1325\n",
              "13001595    SP98     6         2014-12-30 06:07:21   1322\n",
              "13001596    None  None                        None   None\n",
              "\n",
              "[13001597 rows x 4 columns]"
            ],
            "text/html": [
              "\n",
              "  <div id=\"df-41efb881-b385-4745-9515-8de55e57fd7b\" class=\"colab-df-container\">\n",
              "    <div>\n",
              "<style scoped>\n",
              "    .dataframe tbody tr th:only-of-type {\n",
              "        vertical-align: middle;\n",
              "    }\n",
              "\n",
              "    .dataframe tbody tr th {\n",
              "        vertical-align: top;\n",
              "    }\n",
              "\n",
              "    .dataframe thead th {\n",
              "        text-align: right;\n",
              "    }\n",
              "</style>\n",
              "<table border=\"1\" class=\"dataframe\">\n",
              "  <thead>\n",
              "    <tr style=\"text-align: right;\">\n",
              "      <th></th>\n",
              "      <th>nom</th>\n",
              "      <th>id</th>\n",
              "      <th>maj</th>\n",
              "      <th>valeur</th>\n",
              "    </tr>\n",
              "  </thead>\n",
              "  <tbody>\n",
              "    <tr>\n",
              "      <th>0</th>\n",
              "      <td>Gazole</td>\n",
              "      <td>1</td>\n",
              "      <td>2007-01-04 18:43:38.841521</td>\n",
              "      <td>999</td>\n",
              "    </tr>\n",
              "    <tr>\n",
              "      <th>1</th>\n",
              "      <td>Gazole</td>\n",
              "      <td>1</td>\n",
              "      <td>2007-01-09 08:32:48.501587</td>\n",
              "      <td>999</td>\n",
              "    </tr>\n",
              "    <tr>\n",
              "      <th>2</th>\n",
              "      <td>Gazole</td>\n",
              "      <td>1</td>\n",
              "      <td>2007-01-12 08:42:13.582039</td>\n",
              "      <td>989</td>\n",
              "    </tr>\n",
              "    <tr>\n",
              "      <th>3</th>\n",
              "      <td>Gazole</td>\n",
              "      <td>1</td>\n",
              "      <td>2007-01-16 16:18:28.004618</td>\n",
              "      <td>988</td>\n",
              "    </tr>\n",
              "    <tr>\n",
              "      <th>4</th>\n",
              "      <td>Gazole</td>\n",
              "      <td>1</td>\n",
              "      <td>2007-01-17 09:16:37.487625</td>\n",
              "      <td>988</td>\n",
              "    </tr>\n",
              "    <tr>\n",
              "      <th>...</th>\n",
              "      <td>...</td>\n",
              "      <td>...</td>\n",
              "      <td>...</td>\n",
              "      <td>...</td>\n",
              "    </tr>\n",
              "    <tr>\n",
              "      <th>13001592</th>\n",
              "      <td>SP98</td>\n",
              "      <td>6</td>\n",
              "      <td>2014-12-24 05:52:33</td>\n",
              "      <td>1333</td>\n",
              "    </tr>\n",
              "    <tr>\n",
              "      <th>13001593</th>\n",
              "      <td>SP98</td>\n",
              "      <td>6</td>\n",
              "      <td>2014-12-26 06:53:16</td>\n",
              "      <td>1329</td>\n",
              "    </tr>\n",
              "    <tr>\n",
              "      <th>13001594</th>\n",
              "      <td>SP98</td>\n",
              "      <td>6</td>\n",
              "      <td>2014-12-29 08:18:04</td>\n",
              "      <td>1325</td>\n",
              "    </tr>\n",
              "    <tr>\n",
              "      <th>13001595</th>\n",
              "      <td>SP98</td>\n",
              "      <td>6</td>\n",
              "      <td>2014-12-30 06:07:21</td>\n",
              "      <td>1322</td>\n",
              "    </tr>\n",
              "    <tr>\n",
              "      <th>13001596</th>\n",
              "      <td>None</td>\n",
              "      <td>None</td>\n",
              "      <td>None</td>\n",
              "      <td>None</td>\n",
              "    </tr>\n",
              "  </tbody>\n",
              "</table>\n",
              "<p>13001597 rows × 4 columns</p>\n",
              "</div>\n",
              "    <div class=\"colab-df-buttons\">\n",
              "\n",
              "  <div class=\"colab-df-container\">\n",
              "    <button class=\"colab-df-convert\" onclick=\"convertToInteractive('df-41efb881-b385-4745-9515-8de55e57fd7b')\"\n",
              "            title=\"Convert this dataframe to an interactive table.\"\n",
              "            style=\"display:none;\">\n",
              "\n",
              "  <svg xmlns=\"http://www.w3.org/2000/svg\" height=\"24px\" viewBox=\"0 -960 960 960\">\n",
              "    <path d=\"M120-120v-720h720v720H120Zm60-500h600v-160H180v160Zm220 220h160v-160H400v160Zm0 220h160v-160H400v160ZM180-400h160v-160H180v160Zm440 0h160v-160H620v160ZM180-180h160v-160H180v160Zm440 0h160v-160H620v160Z\"/>\n",
              "  </svg>\n",
              "    </button>\n",
              "\n",
              "  <style>\n",
              "    .colab-df-container {\n",
              "      display:flex;\n",
              "      gap: 12px;\n",
              "    }\n",
              "\n",
              "    .colab-df-convert {\n",
              "      background-color: #E8F0FE;\n",
              "      border: none;\n",
              "      border-radius: 50%;\n",
              "      cursor: pointer;\n",
              "      display: none;\n",
              "      fill: #1967D2;\n",
              "      height: 32px;\n",
              "      padding: 0 0 0 0;\n",
              "      width: 32px;\n",
              "    }\n",
              "\n",
              "    .colab-df-convert:hover {\n",
              "      background-color: #E2EBFA;\n",
              "      box-shadow: 0px 1px 2px rgba(60, 64, 67, 0.3), 0px 1px 3px 1px rgba(60, 64, 67, 0.15);\n",
              "      fill: #174EA6;\n",
              "    }\n",
              "\n",
              "    .colab-df-buttons div {\n",
              "      margin-bottom: 4px;\n",
              "    }\n",
              "\n",
              "    [theme=dark] .colab-df-convert {\n",
              "      background-color: #3B4455;\n",
              "      fill: #D2E3FC;\n",
              "    }\n",
              "\n",
              "    [theme=dark] .colab-df-convert:hover {\n",
              "      background-color: #434B5C;\n",
              "      box-shadow: 0px 1px 3px 1px rgba(0, 0, 0, 0.15);\n",
              "      filter: drop-shadow(0px 1px 2px rgba(0, 0, 0, 0.3));\n",
              "      fill: #FFFFFF;\n",
              "    }\n",
              "  </style>\n",
              "\n",
              "    <script>\n",
              "      const buttonEl =\n",
              "        document.querySelector('#df-41efb881-b385-4745-9515-8de55e57fd7b button.colab-df-convert');\n",
              "      buttonEl.style.display =\n",
              "        google.colab.kernel.accessAllowed ? 'block' : 'none';\n",
              "\n",
              "      async function convertToInteractive(key) {\n",
              "        const element = document.querySelector('#df-41efb881-b385-4745-9515-8de55e57fd7b');\n",
              "        const dataTable =\n",
              "          await google.colab.kernel.invokeFunction('convertToInteractive',\n",
              "                                                    [key], {});\n",
              "        if (!dataTable) return;\n",
              "\n",
              "        const docLinkHtml = 'Like what you see? Visit the ' +\n",
              "          '<a target=\"_blank\" href=https://colab.research.google.com/notebooks/data_table.ipynb>data table notebook</a>'\n",
              "          + ' to learn more about interactive tables.';\n",
              "        element.innerHTML = '';\n",
              "        dataTable['output_type'] = 'display_data';\n",
              "        await google.colab.output.renderOutput(dataTable, element);\n",
              "        const docLink = document.createElement('div');\n",
              "        docLink.innerHTML = docLinkHtml;\n",
              "        element.appendChild(docLink);\n",
              "      }\n",
              "    </script>\n",
              "  </div>\n",
              "\n",
              "\n",
              "<div id=\"df-c35639c0-5cfe-42ba-9f9f-99a068e29417\">\n",
              "  <button class=\"colab-df-quickchart\" onclick=\"quickchart('df-c35639c0-5cfe-42ba-9f9f-99a068e29417')\"\n",
              "            title=\"Suggest charts.\"\n",
              "            style=\"display:none;\">\n",
              "\n",
              "<svg xmlns=\"http://www.w3.org/2000/svg\" height=\"24px\"viewBox=\"0 0 24 24\"\n",
              "     width=\"24px\">\n",
              "    <g>\n",
              "        <path d=\"M19 3H5c-1.1 0-2 .9-2 2v14c0 1.1.9 2 2 2h14c1.1 0 2-.9 2-2V5c0-1.1-.9-2-2-2zM9 17H7v-7h2v7zm4 0h-2V7h2v10zm4 0h-2v-4h2v4z\"/>\n",
              "    </g>\n",
              "</svg>\n",
              "  </button>\n",
              "\n",
              "<style>\n",
              "  .colab-df-quickchart {\n",
              "      --bg-color: #E8F0FE;\n",
              "      --fill-color: #1967D2;\n",
              "      --hover-bg-color: #E2EBFA;\n",
              "      --hover-fill-color: #174EA6;\n",
              "      --disabled-fill-color: #AAA;\n",
              "      --disabled-bg-color: #DDD;\n",
              "  }\n",
              "\n",
              "  [theme=dark] .colab-df-quickchart {\n",
              "      --bg-color: #3B4455;\n",
              "      --fill-color: #D2E3FC;\n",
              "      --hover-bg-color: #434B5C;\n",
              "      --hover-fill-color: #FFFFFF;\n",
              "      --disabled-bg-color: #3B4455;\n",
              "      --disabled-fill-color: #666;\n",
              "  }\n",
              "\n",
              "  .colab-df-quickchart {\n",
              "    background-color: var(--bg-color);\n",
              "    border: none;\n",
              "    border-radius: 50%;\n",
              "    cursor: pointer;\n",
              "    display: none;\n",
              "    fill: var(--fill-color);\n",
              "    height: 32px;\n",
              "    padding: 0;\n",
              "    width: 32px;\n",
              "  }\n",
              "\n",
              "  .colab-df-quickchart:hover {\n",
              "    background-color: var(--hover-bg-color);\n",
              "    box-shadow: 0 1px 2px rgba(60, 64, 67, 0.3), 0 1px 3px 1px rgba(60, 64, 67, 0.15);\n",
              "    fill: var(--button-hover-fill-color);\n",
              "  }\n",
              "\n",
              "  .colab-df-quickchart-complete:disabled,\n",
              "  .colab-df-quickchart-complete:disabled:hover {\n",
              "    background-color: var(--disabled-bg-color);\n",
              "    fill: var(--disabled-fill-color);\n",
              "    box-shadow: none;\n",
              "  }\n",
              "\n",
              "  .colab-df-spinner {\n",
              "    border: 2px solid var(--fill-color);\n",
              "    border-color: transparent;\n",
              "    border-bottom-color: var(--fill-color);\n",
              "    animation:\n",
              "      spin 1s steps(1) infinite;\n",
              "  }\n",
              "\n",
              "  @keyframes spin {\n",
              "    0% {\n",
              "      border-color: transparent;\n",
              "      border-bottom-color: var(--fill-color);\n",
              "      border-left-color: var(--fill-color);\n",
              "    }\n",
              "    20% {\n",
              "      border-color: transparent;\n",
              "      border-left-color: var(--fill-color);\n",
              "      border-top-color: var(--fill-color);\n",
              "    }\n",
              "    30% {\n",
              "      border-color: transparent;\n",
              "      border-left-color: var(--fill-color);\n",
              "      border-top-color: var(--fill-color);\n",
              "      border-right-color: var(--fill-color);\n",
              "    }\n",
              "    40% {\n",
              "      border-color: transparent;\n",
              "      border-right-color: var(--fill-color);\n",
              "      border-top-color: var(--fill-color);\n",
              "    }\n",
              "    60% {\n",
              "      border-color: transparent;\n",
              "      border-right-color: var(--fill-color);\n",
              "    }\n",
              "    80% {\n",
              "      border-color: transparent;\n",
              "      border-right-color: var(--fill-color);\n",
              "      border-bottom-color: var(--fill-color);\n",
              "    }\n",
              "    90% {\n",
              "      border-color: transparent;\n",
              "      border-bottom-color: var(--fill-color);\n",
              "    }\n",
              "  }\n",
              "</style>\n",
              "\n",
              "  <script>\n",
              "    async function quickchart(key) {\n",
              "      const quickchartButtonEl =\n",
              "        document.querySelector('#' + key + ' button');\n",
              "      quickchartButtonEl.disabled = true;  // To prevent multiple clicks.\n",
              "      quickchartButtonEl.classList.add('colab-df-spinner');\n",
              "      try {\n",
              "        const charts = await google.colab.kernel.invokeFunction(\n",
              "            'suggestCharts', [key], {});\n",
              "      } catch (error) {\n",
              "        console.error('Error during call to suggestCharts:', error);\n",
              "      }\n",
              "      quickchartButtonEl.classList.remove('colab-df-spinner');\n",
              "      quickchartButtonEl.classList.add('colab-df-quickchart-complete');\n",
              "    }\n",
              "    (() => {\n",
              "      let quickchartButtonEl =\n",
              "        document.querySelector('#df-c35639c0-5cfe-42ba-9f9f-99a068e29417 button');\n",
              "      quickchartButtonEl.style.display =\n",
              "        google.colab.kernel.accessAllowed ? 'block' : 'none';\n",
              "    })();\n",
              "  </script>\n",
              "</div>\n",
              "    </div>\n",
              "  </div>\n"
            ]
          },
          "metadata": {},
          "execution_count": 2
        }
      ]
    },
    {
      "cell_type": "code",
      "source": [
        "df = df_final.copy()"
      ],
      "metadata": {
        "id": "GyAco0WDDzAV"
      },
      "execution_count": 3,
      "outputs": []
    },
    {
      "cell_type": "markdown",
      "source": [
        "## 2/ Exploration et prétraitement"
      ],
      "metadata": {
        "id": "YBibAuXDSl0n"
      }
    },
    {
      "cell_type": "markdown",
      "source": [
        "* **notre base de données contient 4 columns qui représente : le nom de carburant, son id, la date du dérnier mise à jour du prix et dérnièrement le prix**"
      ],
      "metadata": {
        "id": "LUCi1OYfSMSG"
      }
    },
    {
      "cell_type": "code",
      "source": [
        "df.columns"
      ],
      "metadata": {
        "id": "joxKg-U2pMaK",
        "colab": {
          "base_uri": "https://localhost:8080/"
        },
        "outputId": "9a5928f4-16f7-45e1-ef83-10621edf6481"
      },
      "execution_count": 4,
      "outputs": [
        {
          "output_type": "execute_result",
          "data": {
            "text/plain": [
              "Index(['nom', 'id', 'maj', 'valeur'], dtype='object')"
            ]
          },
          "metadata": {},
          "execution_count": 4
        }
      ]
    },
    {
      "cell_type": "markdown",
      "source": [
        "* **La colonne \"id\" ne semble pas pertinente pour notre analyse, on va la suppimer.**"
      ],
      "metadata": {
        "id": "Xo_eeAM6RwMi"
      }
    },
    {
      "cell_type": "code",
      "source": [
        "df.drop(columns=\"id\", inplace=True)"
      ],
      "metadata": {
        "id": "1y5q-F5npQQe"
      },
      "execution_count": 5,
      "outputs": []
    },
    {
      "cell_type": "markdown",
      "source": [
        "* **Renommer les colonnes de la dataframe totale**"
      ],
      "metadata": {
        "id": "CUEx3EDkljIl"
      }
    },
    {
      "cell_type": "code",
      "source": [
        "# Créez un dictionnaire de correspondance entre les anciens et les nouveaux noms de colonnes\n",
        "nouvelles_colonnes = {\n",
        "                      'nom': 'carburant',\n",
        "                      'maj': 'date_maj',\n",
        "                      'valeur': 'prix'\n",
        "                      }\n",
        "\n",
        "# Utilisez la méthode .rename() pour renommer les colonnes\n",
        "df = df.rename(columns=nouvelles_colonnes)"
      ],
      "metadata": {
        "id": "RPjUjeZskEgC"
      },
      "execution_count": 6,
      "outputs": []
    },
    {
      "cell_type": "code",
      "source": [
        "df"
      ],
      "metadata": {
        "colab": {
          "base_uri": "https://localhost:8080/",
          "height": 423
        },
        "id": "nuOpkV9Go-0R",
        "outputId": "349372e7-6991-4dbc-9a3d-d1becdb6bebd"
      },
      "execution_count": 7,
      "outputs": [
        {
          "output_type": "execute_result",
          "data": {
            "text/plain": [
              "         carburant                    date_maj  prix\n",
              "0           Gazole  2007-01-04 18:43:38.841521   999\n",
              "1           Gazole  2007-01-09 08:32:48.501587   999\n",
              "2           Gazole  2007-01-12 08:42:13.582039   989\n",
              "3           Gazole  2007-01-16 16:18:28.004618   988\n",
              "4           Gazole  2007-01-17 09:16:37.487625   988\n",
              "...            ...                         ...   ...\n",
              "13001592      SP98         2014-12-24 05:52:33  1333\n",
              "13001593      SP98         2014-12-26 06:53:16  1329\n",
              "13001594      SP98         2014-12-29 08:18:04  1325\n",
              "13001595      SP98         2014-12-30 06:07:21  1322\n",
              "13001596      None                        None  None\n",
              "\n",
              "[13001597 rows x 3 columns]"
            ],
            "text/html": [
              "\n",
              "  <div id=\"df-d2dfdf09-5440-41a8-8b4a-f1a1197480df\" class=\"colab-df-container\">\n",
              "    <div>\n",
              "<style scoped>\n",
              "    .dataframe tbody tr th:only-of-type {\n",
              "        vertical-align: middle;\n",
              "    }\n",
              "\n",
              "    .dataframe tbody tr th {\n",
              "        vertical-align: top;\n",
              "    }\n",
              "\n",
              "    .dataframe thead th {\n",
              "        text-align: right;\n",
              "    }\n",
              "</style>\n",
              "<table border=\"1\" class=\"dataframe\">\n",
              "  <thead>\n",
              "    <tr style=\"text-align: right;\">\n",
              "      <th></th>\n",
              "      <th>carburant</th>\n",
              "      <th>date_maj</th>\n",
              "      <th>prix</th>\n",
              "    </tr>\n",
              "  </thead>\n",
              "  <tbody>\n",
              "    <tr>\n",
              "      <th>0</th>\n",
              "      <td>Gazole</td>\n",
              "      <td>2007-01-04 18:43:38.841521</td>\n",
              "      <td>999</td>\n",
              "    </tr>\n",
              "    <tr>\n",
              "      <th>1</th>\n",
              "      <td>Gazole</td>\n",
              "      <td>2007-01-09 08:32:48.501587</td>\n",
              "      <td>999</td>\n",
              "    </tr>\n",
              "    <tr>\n",
              "      <th>2</th>\n",
              "      <td>Gazole</td>\n",
              "      <td>2007-01-12 08:42:13.582039</td>\n",
              "      <td>989</td>\n",
              "    </tr>\n",
              "    <tr>\n",
              "      <th>3</th>\n",
              "      <td>Gazole</td>\n",
              "      <td>2007-01-16 16:18:28.004618</td>\n",
              "      <td>988</td>\n",
              "    </tr>\n",
              "    <tr>\n",
              "      <th>4</th>\n",
              "      <td>Gazole</td>\n",
              "      <td>2007-01-17 09:16:37.487625</td>\n",
              "      <td>988</td>\n",
              "    </tr>\n",
              "    <tr>\n",
              "      <th>...</th>\n",
              "      <td>...</td>\n",
              "      <td>...</td>\n",
              "      <td>...</td>\n",
              "    </tr>\n",
              "    <tr>\n",
              "      <th>13001592</th>\n",
              "      <td>SP98</td>\n",
              "      <td>2014-12-24 05:52:33</td>\n",
              "      <td>1333</td>\n",
              "    </tr>\n",
              "    <tr>\n",
              "      <th>13001593</th>\n",
              "      <td>SP98</td>\n",
              "      <td>2014-12-26 06:53:16</td>\n",
              "      <td>1329</td>\n",
              "    </tr>\n",
              "    <tr>\n",
              "      <th>13001594</th>\n",
              "      <td>SP98</td>\n",
              "      <td>2014-12-29 08:18:04</td>\n",
              "      <td>1325</td>\n",
              "    </tr>\n",
              "    <tr>\n",
              "      <th>13001595</th>\n",
              "      <td>SP98</td>\n",
              "      <td>2014-12-30 06:07:21</td>\n",
              "      <td>1322</td>\n",
              "    </tr>\n",
              "    <tr>\n",
              "      <th>13001596</th>\n",
              "      <td>None</td>\n",
              "      <td>None</td>\n",
              "      <td>None</td>\n",
              "    </tr>\n",
              "  </tbody>\n",
              "</table>\n",
              "<p>13001597 rows × 3 columns</p>\n",
              "</div>\n",
              "    <div class=\"colab-df-buttons\">\n",
              "\n",
              "  <div class=\"colab-df-container\">\n",
              "    <button class=\"colab-df-convert\" onclick=\"convertToInteractive('df-d2dfdf09-5440-41a8-8b4a-f1a1197480df')\"\n",
              "            title=\"Convert this dataframe to an interactive table.\"\n",
              "            style=\"display:none;\">\n",
              "\n",
              "  <svg xmlns=\"http://www.w3.org/2000/svg\" height=\"24px\" viewBox=\"0 -960 960 960\">\n",
              "    <path d=\"M120-120v-720h720v720H120Zm60-500h600v-160H180v160Zm220 220h160v-160H400v160Zm0 220h160v-160H400v160ZM180-400h160v-160H180v160Zm440 0h160v-160H620v160ZM180-180h160v-160H180v160Zm440 0h160v-160H620v160Z\"/>\n",
              "  </svg>\n",
              "    </button>\n",
              "\n",
              "  <style>\n",
              "    .colab-df-container {\n",
              "      display:flex;\n",
              "      gap: 12px;\n",
              "    }\n",
              "\n",
              "    .colab-df-convert {\n",
              "      background-color: #E8F0FE;\n",
              "      border: none;\n",
              "      border-radius: 50%;\n",
              "      cursor: pointer;\n",
              "      display: none;\n",
              "      fill: #1967D2;\n",
              "      height: 32px;\n",
              "      padding: 0 0 0 0;\n",
              "      width: 32px;\n",
              "    }\n",
              "\n",
              "    .colab-df-convert:hover {\n",
              "      background-color: #E2EBFA;\n",
              "      box-shadow: 0px 1px 2px rgba(60, 64, 67, 0.3), 0px 1px 3px 1px rgba(60, 64, 67, 0.15);\n",
              "      fill: #174EA6;\n",
              "    }\n",
              "\n",
              "    .colab-df-buttons div {\n",
              "      margin-bottom: 4px;\n",
              "    }\n",
              "\n",
              "    [theme=dark] .colab-df-convert {\n",
              "      background-color: #3B4455;\n",
              "      fill: #D2E3FC;\n",
              "    }\n",
              "\n",
              "    [theme=dark] .colab-df-convert:hover {\n",
              "      background-color: #434B5C;\n",
              "      box-shadow: 0px 1px 3px 1px rgba(0, 0, 0, 0.15);\n",
              "      filter: drop-shadow(0px 1px 2px rgba(0, 0, 0, 0.3));\n",
              "      fill: #FFFFFF;\n",
              "    }\n",
              "  </style>\n",
              "\n",
              "    <script>\n",
              "      const buttonEl =\n",
              "        document.querySelector('#df-d2dfdf09-5440-41a8-8b4a-f1a1197480df button.colab-df-convert');\n",
              "      buttonEl.style.display =\n",
              "        google.colab.kernel.accessAllowed ? 'block' : 'none';\n",
              "\n",
              "      async function convertToInteractive(key) {\n",
              "        const element = document.querySelector('#df-d2dfdf09-5440-41a8-8b4a-f1a1197480df');\n",
              "        const dataTable =\n",
              "          await google.colab.kernel.invokeFunction('convertToInteractive',\n",
              "                                                    [key], {});\n",
              "        if (!dataTable) return;\n",
              "\n",
              "        const docLinkHtml = 'Like what you see? Visit the ' +\n",
              "          '<a target=\"_blank\" href=https://colab.research.google.com/notebooks/data_table.ipynb>data table notebook</a>'\n",
              "          + ' to learn more about interactive tables.';\n",
              "        element.innerHTML = '';\n",
              "        dataTable['output_type'] = 'display_data';\n",
              "        await google.colab.output.renderOutput(dataTable, element);\n",
              "        const docLink = document.createElement('div');\n",
              "        docLink.innerHTML = docLinkHtml;\n",
              "        element.appendChild(docLink);\n",
              "      }\n",
              "    </script>\n",
              "  </div>\n",
              "\n",
              "\n",
              "<div id=\"df-6ac2f335-35ea-4661-b5b5-8592dff260d8\">\n",
              "  <button class=\"colab-df-quickchart\" onclick=\"quickchart('df-6ac2f335-35ea-4661-b5b5-8592dff260d8')\"\n",
              "            title=\"Suggest charts.\"\n",
              "            style=\"display:none;\">\n",
              "\n",
              "<svg xmlns=\"http://www.w3.org/2000/svg\" height=\"24px\"viewBox=\"0 0 24 24\"\n",
              "     width=\"24px\">\n",
              "    <g>\n",
              "        <path d=\"M19 3H5c-1.1 0-2 .9-2 2v14c0 1.1.9 2 2 2h14c1.1 0 2-.9 2-2V5c0-1.1-.9-2-2-2zM9 17H7v-7h2v7zm4 0h-2V7h2v10zm4 0h-2v-4h2v4z\"/>\n",
              "    </g>\n",
              "</svg>\n",
              "  </button>\n",
              "\n",
              "<style>\n",
              "  .colab-df-quickchart {\n",
              "      --bg-color: #E8F0FE;\n",
              "      --fill-color: #1967D2;\n",
              "      --hover-bg-color: #E2EBFA;\n",
              "      --hover-fill-color: #174EA6;\n",
              "      --disabled-fill-color: #AAA;\n",
              "      --disabled-bg-color: #DDD;\n",
              "  }\n",
              "\n",
              "  [theme=dark] .colab-df-quickchart {\n",
              "      --bg-color: #3B4455;\n",
              "      --fill-color: #D2E3FC;\n",
              "      --hover-bg-color: #434B5C;\n",
              "      --hover-fill-color: #FFFFFF;\n",
              "      --disabled-bg-color: #3B4455;\n",
              "      --disabled-fill-color: #666;\n",
              "  }\n",
              "\n",
              "  .colab-df-quickchart {\n",
              "    background-color: var(--bg-color);\n",
              "    border: none;\n",
              "    border-radius: 50%;\n",
              "    cursor: pointer;\n",
              "    display: none;\n",
              "    fill: var(--fill-color);\n",
              "    height: 32px;\n",
              "    padding: 0;\n",
              "    width: 32px;\n",
              "  }\n",
              "\n",
              "  .colab-df-quickchart:hover {\n",
              "    background-color: var(--hover-bg-color);\n",
              "    box-shadow: 0 1px 2px rgba(60, 64, 67, 0.3), 0 1px 3px 1px rgba(60, 64, 67, 0.15);\n",
              "    fill: var(--button-hover-fill-color);\n",
              "  }\n",
              "\n",
              "  .colab-df-quickchart-complete:disabled,\n",
              "  .colab-df-quickchart-complete:disabled:hover {\n",
              "    background-color: var(--disabled-bg-color);\n",
              "    fill: var(--disabled-fill-color);\n",
              "    box-shadow: none;\n",
              "  }\n",
              "\n",
              "  .colab-df-spinner {\n",
              "    border: 2px solid var(--fill-color);\n",
              "    border-color: transparent;\n",
              "    border-bottom-color: var(--fill-color);\n",
              "    animation:\n",
              "      spin 1s steps(1) infinite;\n",
              "  }\n",
              "\n",
              "  @keyframes spin {\n",
              "    0% {\n",
              "      border-color: transparent;\n",
              "      border-bottom-color: var(--fill-color);\n",
              "      border-left-color: var(--fill-color);\n",
              "    }\n",
              "    20% {\n",
              "      border-color: transparent;\n",
              "      border-left-color: var(--fill-color);\n",
              "      border-top-color: var(--fill-color);\n",
              "    }\n",
              "    30% {\n",
              "      border-color: transparent;\n",
              "      border-left-color: var(--fill-color);\n",
              "      border-top-color: var(--fill-color);\n",
              "      border-right-color: var(--fill-color);\n",
              "    }\n",
              "    40% {\n",
              "      border-color: transparent;\n",
              "      border-right-color: var(--fill-color);\n",
              "      border-top-color: var(--fill-color);\n",
              "    }\n",
              "    60% {\n",
              "      border-color: transparent;\n",
              "      border-right-color: var(--fill-color);\n",
              "    }\n",
              "    80% {\n",
              "      border-color: transparent;\n",
              "      border-right-color: var(--fill-color);\n",
              "      border-bottom-color: var(--fill-color);\n",
              "    }\n",
              "    90% {\n",
              "      border-color: transparent;\n",
              "      border-bottom-color: var(--fill-color);\n",
              "    }\n",
              "  }\n",
              "</style>\n",
              "\n",
              "  <script>\n",
              "    async function quickchart(key) {\n",
              "      const quickchartButtonEl =\n",
              "        document.querySelector('#' + key + ' button');\n",
              "      quickchartButtonEl.disabled = true;  // To prevent multiple clicks.\n",
              "      quickchartButtonEl.classList.add('colab-df-spinner');\n",
              "      try {\n",
              "        const charts = await google.colab.kernel.invokeFunction(\n",
              "            'suggestCharts', [key], {});\n",
              "      } catch (error) {\n",
              "        console.error('Error during call to suggestCharts:', error);\n",
              "      }\n",
              "      quickchartButtonEl.classList.remove('colab-df-spinner');\n",
              "      quickchartButtonEl.classList.add('colab-df-quickchart-complete');\n",
              "    }\n",
              "    (() => {\n",
              "      let quickchartButtonEl =\n",
              "        document.querySelector('#df-6ac2f335-35ea-4661-b5b5-8592dff260d8 button');\n",
              "      quickchartButtonEl.style.display =\n",
              "        google.colab.kernel.accessAllowed ? 'block' : 'none';\n",
              "    })();\n",
              "  </script>\n",
              "</div>\n",
              "    </div>\n",
              "  </div>\n"
            ]
          },
          "metadata": {},
          "execution_count": 7
        }
      ]
    },
    {
      "cell_type": "markdown",
      "source": [
        "* **La taille de notre dataframe et le type des variables**"
      ],
      "metadata": {
        "id": "iQ7-jXghmchc"
      }
    },
    {
      "cell_type": "code",
      "source": [
        "# shape of our data\n",
        "df.shape"
      ],
      "metadata": {
        "id": "jHxN2s__mdBi",
        "colab": {
          "base_uri": "https://localhost:8080/"
        },
        "outputId": "232e2c13-4314-4ede-9f92-7739eefc764f"
      },
      "execution_count": 8,
      "outputs": [
        {
          "output_type": "execute_result",
          "data": {
            "text/plain": [
              "(13001597, 3)"
            ]
          },
          "metadata": {},
          "execution_count": 8
        }
      ]
    },
    {
      "cell_type": "code",
      "source": [
        "df.info()"
      ],
      "metadata": {
        "colab": {
          "base_uri": "https://localhost:8080/"
        },
        "id": "L_nSV-nkdmcW",
        "outputId": "87999330-ee0d-41c8-cbce-88182b54e427"
      },
      "execution_count": 9,
      "outputs": [
        {
          "output_type": "stream",
          "name": "stdout",
          "text": [
            "<class 'pandas.core.frame.DataFrame'>\n",
            "RangeIndex: 13001597 entries, 0 to 13001596\n",
            "Data columns (total 3 columns):\n",
            " #   Column     Dtype \n",
            "---  ------     ----- \n",
            " 0   carburant  object\n",
            " 1   date_maj   object\n",
            " 2   prix       object\n",
            "dtypes: object(3)\n",
            "memory usage: 297.6+ MB\n"
          ]
        }
      ]
    },
    {
      "cell_type": "markdown",
      "source": [
        "* **les statistiques de prix des carburants**\n",
        "\n"
      ],
      "metadata": {
        "id": "UqMpMv9pTYTh"
      }
    },
    {
      "cell_type": "code",
      "source": [
        "df['prix'].describe()"
      ],
      "metadata": {
        "id": "QuQvRsmdml_R",
        "colab": {
          "base_uri": "https://localhost:8080/"
        },
        "outputId": "56804e8a-2e51-4a95-d786-7bd5a074d69b"
      },
      "execution_count": 10,
      "outputs": [
        {
          "output_type": "execute_result",
          "data": {
            "text/plain": [
              "count     12992189\n",
              "unique        1565\n",
              "top           1299\n",
              "freq        142906\n",
              "Name: prix, dtype: object"
            ]
          },
          "metadata": {},
          "execution_count": 10
        }
      ]
    },
    {
      "cell_type": "markdown",
      "source": [
        "* **On a pas de valeurs nulles partielles dans une colonne, on a des lignes vides (toutes les colonnes de cette ligne sont vides à la fois)**"
      ],
      "metadata": {
        "id": "Ct-qxM-pUmBB"
      }
    },
    {
      "cell_type": "code",
      "source": [
        "# Utilisez .isnull() pour vérifier les valeurs nulles, puis .all(axis=1) pour vérifier si toutes les colonnes sont nulles\n",
        "lignes_vides = df[df.isnull().all(axis=1)]\n",
        "print(lignes_vides)"
      ],
      "metadata": {
        "colab": {
          "base_uri": "https://localhost:8080/"
        },
        "id": "YHxHD4uqt6AK",
        "outputId": "573ad6b7-c94d-46f0-cc26-c0d8097d1c96"
      },
      "execution_count": 11,
      "outputs": [
        {
          "output_type": "stream",
          "name": "stdout",
          "text": [
            "         carburant date_maj  prix\n",
            "224           None     None  None\n",
            "3705          None     None  None\n",
            "3820          None     None  None\n",
            "6294          None     None  None\n",
            "7191          None     None  None\n",
            "...            ...      ...   ...\n",
            "13000701      None     None  None\n",
            "13000702      None     None  None\n",
            "13000703      None     None  None\n",
            "13000926      None     None  None\n",
            "13001596      None     None  None\n",
            "\n",
            "[9408 rows x 3 columns]\n"
          ]
        }
      ]
    },
    {
      "cell_type": "code",
      "source": [
        "# La méthode .isnull() pour vérifier les valeurs nulles et .sum() pour les compter\n",
        "valeurs_nulles_par_colonne = df.isnull().sum()\n",
        "print(valeurs_nulles_par_colonne)"
      ],
      "metadata": {
        "colab": {
          "base_uri": "https://localhost:8080/"
        },
        "id": "3iZgPMFKm8UB",
        "outputId": "c357f133-99b5-48d8-9982-83bf561f065b"
      },
      "execution_count": 12,
      "outputs": [
        {
          "output_type": "stream",
          "name": "stdout",
          "text": [
            "carburant    9408\n",
            "date_maj     9408\n",
            "prix         9408\n",
            "dtype: int64\n"
          ]
        }
      ]
    },
    {
      "cell_type": "markdown",
      "source": [
        "* **On supprime donc ces lignes vides**"
      ],
      "metadata": {
        "id": "rzB9f_ZgVDvQ"
      }
    },
    {
      "cell_type": "code",
      "source": [
        "# Utilisez .dropna() avec how='all' pour supprimer les lignes vides\n",
        "df = df.dropna(how='all')"
      ],
      "metadata": {
        "id": "Tl7sN_LouIJ2"
      },
      "execution_count": 13,
      "outputs": []
    },
    {
      "cell_type": "markdown",
      "source": [
        "* **les doublons : Les lignes qui ont les mêmes valeurs dans toutes les colonnes**\n",
        "\n"
      ],
      "metadata": {
        "id": "lcb8JiHvuamP"
      }
    },
    {
      "cell_type": "code",
      "source": [
        "nombre_de_lignes_uniques = df.drop_duplicates().duplicated(keep=False).sum()\n",
        "print(f\"Nombre de doublons dans le DataFrame : {nombre_de_lignes_uniques}\")"
      ],
      "metadata": {
        "colab": {
          "base_uri": "https://localhost:8080/"
        },
        "id": "KFpEma0tvLhE",
        "outputId": "00b766a6-65ab-4a82-cf01-708dc2bc4d0f"
      },
      "execution_count": 14,
      "outputs": [
        {
          "output_type": "stream",
          "name": "stdout",
          "text": [
            "Nombre de doublons dans le DataFrame : 0\n"
          ]
        }
      ]
    },
    {
      "cell_type": "markdown",
      "source": [
        "* **Outliers: D'après le boxplot ci dessous y a trop de outliers qui sont hors la box**"
      ],
      "metadata": {
        "id": "Jisl9BJAceal"
      }
    },
    {
      "cell_type": "code",
      "source": [
        "# Convertir la colonne 'prix' en type float\n",
        "df['prix'] = df['prix'].astype(float)"
      ],
      "metadata": {
        "id": "2hDAr5Dsv1bC"
      },
      "execution_count": 15,
      "outputs": []
    },
    {
      "cell_type": "code",
      "source": [
        "# Créez la figure et l'axe\n",
        "fig, ax = plt.subplots(figsize=(10, 6))\n",
        "\n",
        "# Tracer la boîte à moustaches (boxplot)\n",
        "sns.boxplot(x=\"carburant\", y=\"prix\", data=df, ax=ax)\n",
        "\n",
        "# Définir le titre, les étiquettes des axes y et x\n",
        "ax.set_title(\"Distribution des prix par carburant\")\n",
        "ax.set_xlabel(\"Carburant\")\n",
        "ax.set_ylabel(\"Prix (en euro)\")\n",
        "\n",
        "# Faites pivoter les étiquettes de l'axe x pour une meilleure lisibilité si nécessaire\n",
        "plt.xticks(rotation=45)\n",
        "plt.show()"
      ],
      "metadata": {
        "colab": {
          "base_uri": "https://localhost:8080/",
          "height": 594
        },
        "id": "P1CdJBdBchdW",
        "outputId": "167c843a-bb3c-4a62-a82b-d93e771b4c3f"
      },
      "execution_count": 16,
      "outputs": [
        {
          "output_type": "display_data",
          "data": {
            "text/plain": [
              "<Figure size 1000x600 with 1 Axes>"
            ],
            "image/png": "[encoded data removed]"
          },
          "metadata": {}
        }
      ]
    },
    {
      "cell_type": "markdown",
      "source": [
        "* **Créer une nouvelle colonne date qui contient la date de mise a jour du prix de carburant sous format aaaa-mm**"
      ],
      "metadata": {
        "id": "PlYubMzYl39U"
      }
    },
    {
      "cell_type": "code",
      "source": [
        "# Utilisez pd.to_datetime pour convertir la colonne en datetime\n",
        "df['date_maj'] = pd.to_datetime(df['date_maj'])\n",
        "\n",
        "# Extraire le mois et l'année à partir de la colonne 'maj'\n",
        "df['mois'] = df['date_maj'].dt.month\n",
        "df['annee'] = df['date_maj'].dt.year"
      ],
      "metadata": {
        "id": "D3QLA0r8eOop"
      },
      "execution_count": 17,
      "outputs": []
    },
    {
      "cell_type": "code",
      "source": [
        "df.info()"
      ],
      "metadata": {
        "colab": {
          "base_uri": "https://localhost:8080/"
        },
        "id": "Y3kAUYd3yGKK",
        "outputId": "f3d4d469-26a8-43f2-e463-9db3c445ede7"
      },
      "execution_count": 18,
      "outputs": [
        {
          "output_type": "stream",
          "name": "stdout",
          "text": [
            "<class 'pandas.core.frame.DataFrame'>\n",
            "Int64Index: 12992189 entries, 0 to 13001595\n",
            "Data columns (total 5 columns):\n",
            " #   Column     Dtype         \n",
            "---  ------     -----         \n",
            " 0   carburant  object        \n",
            " 1   date_maj   datetime64[ns]\n",
            " 2   prix       float64       \n",
            " 3   mois       int64         \n",
            " 4   annee      int64         \n",
            "dtypes: datetime64[ns](1), float64(1), int64(2), object(1)\n",
            "memory usage: 594.7+ MB\n"
          ]
        }
      ]
    },
    {
      "cell_type": "markdown",
      "source": [
        "* **Déviser le prix des carbuants en 1000 pour qu'il donne le prix en euro/litre**"
      ],
      "metadata": {
        "id": "0UvJ9nmwhHZq"
      }
    },
    {
      "cell_type": "code",
      "source": [
        "df[\"prix\"] = df[\"prix\"]/1000"
      ],
      "metadata": {
        "id": "KoDs6po7GEYO"
      },
      "execution_count": 19,
      "outputs": []
    },
    {
      "cell_type": "markdown",
      "source": [
        "* **Explorer les catégories des carburants**"
      ],
      "metadata": {
        "id": "kwlskdAPQPlX"
      }
    },
    {
      "cell_type": "code",
      "source": [
        "categories_uniques = df['carburant'].unique()\n",
        "print(categories_uniques)"
      ],
      "metadata": {
        "colab": {
          "base_uri": "https://localhost:8080/"
        },
        "id": "moUJkHTCWGvI",
        "outputId": "24da548f-db70-4cd0-af47-10fc4b58b10c"
      },
      "execution_count": 20,
      "outputs": [
        {
          "output_type": "stream",
          "name": "stdout",
          "text": [
            "['Gazole' 'SP95' 'GPLc' 'E85' 'E10' 'SP98']\n"
          ]
        }
      ]
    },
    {
      "cell_type": "markdown",
      "source": [
        "## 3/Visualisation"
      ],
      "metadata": {
        "id": "hAhzGBiQ_Jo6"
      }
    },
    {
      "cell_type": "markdown",
      "source": [
        "* **Tracer la variation de prix mensuelle de chaque type de carburants**"
      ],
      "metadata": {
        "id": "1yzEY_ELQT6W"
      }
    },
    {
      "cell_type": "code",
      "source": [
        "# Groupez les données par 'carburant', 'annee' et 'mois', puis calculez la moyenne des prix\n",
        "moyenne_mensuelle = df.groupby(['carburant', 'annee', 'mois'])['prix'].mean().reset_index()"
      ],
      "metadata": {
        "id": "NG85b9XIYVs3"
      },
      "execution_count": 21,
      "outputs": []
    },
    {
      "cell_type": "code",
      "source": [
        "# Créez un graphique unique avec des courbes de prix pour chaque type de carburant\n",
        "carburants = df['carburant'].unique()\n",
        "\n",
        "plt.figure(figsize=(15, 8))\n",
        "\n",
        "for carburant in carburants:\n",
        "    data_carburant = moyenne_mensuelle[moyenne_mensuelle['carburant'] == carburant]\n",
        "    data_carburant['date'] = pd.to_datetime(data_carburant['annee'].astype(str) + '-' + data_carburant['mois'].astype(str) + '-01')\n",
        "    plt.plot(data_carburant['date'], data_carburant['prix'], label=carburant)\n",
        "\n",
        "plt.title('Prix Mensuel par Type de Carburant')\n",
        "plt.xlabel('Date')\n",
        "plt.ylabel('Prix Moyen')\n",
        "plt.grid(True)\n",
        "plt.legend()\n",
        "plt.show()"
      ],
      "metadata": {
        "colab": {
          "base_uri": "https://localhost:8080/",
          "height": 718
        },
        "id": "aI793tAJPbMs",
        "outputId": "7ca3935f-6f92-4e4a-bba9-62f55c3488ee"
      },
      "execution_count": 22,
      "outputs": [
        {
          "output_type": "display_data",
          "data": {
            "text/plain": [
              "<Figure size 1500x800 with 1 Axes>"
            ],
            "image/png": "[encoded data removed]"
          },
          "metadata": {}
        }
      ]
    },
    {
      "cell_type": "markdown",
      "source": [
        "* **Creer la  colonne de l'écart entre le carburant SP95 et gazole**"
      ],
      "metadata": {
        "id": "Vkf9rFjg9xNN"
      }
    },
    {
      "cell_type": "code",
      "source": [
        "#Créez une nouvelle colonne 'annee_mois' en utilisant la méthode strftime\n",
        "df['annee_mois'] = df['date_maj'].dt.strftime('%Y-%m')\n",
        "\n",
        "# Groupez les données par 'annee_mois', 'carburant' et calculez la moyenne des prix\n",
        "df_grouped = df.groupby(['annee_mois', 'carburant'])['prix'].mean().unstack()\n",
        "\n",
        "# Calculez la colonne 'écart' en divisant les prix de SP95 par les prix de Gazole\n",
        "df_grouped['écart'] = df_grouped['SP95'] - df_grouped['Gazole']\n",
        "\n",
        "# Réinitialisez l'index pour obtenir une DataFrame propre\n",
        "df_ecart = df_grouped.reset_index()\n",
        "\n",
        "# Renommez la colonne 'annee_mois' en 'date'\n",
        "df_ecart.rename(columns={'annee_mois': 'date'}, inplace=True)\n",
        "df_ecart"
      ],
      "metadata": {
        "colab": {
          "base_uri": "https://localhost:8080/",
          "height": 423
        },
        "id": "jObrxvMUUqe9",
        "outputId": "bb211c7a-cafb-44cb-c640-4eb162554f12"
      },
      "execution_count": 23,
      "outputs": [
        {
          "output_type": "execute_result",
          "data": {
            "text/plain": [
              "carburant     date       E10       E85      GPLc    Gazole      SP95  \\\n",
              "0          2007-01       NaN  0.791510       NaN  1.006874  1.173170   \n",
              "1          2007-02       NaN  0.792355       NaN  1.015969  1.191732   \n",
              "2          2007-03       NaN  0.793553       NaN  1.033281  1.243828   \n",
              "3          2007-04       NaN  0.795446       NaN  1.052674  1.286718   \n",
              "4          2007-05       NaN  0.799185       NaN  1.058717  1.325858   \n",
              "..             ...       ...       ...       ...       ...       ...   \n",
              "91         2014-08  1.482784  0.866609  0.841397  1.295008  1.500621   \n",
              "92         2014-09  1.472585  0.868704  0.840068  1.285891  1.493466   \n",
              "93         2014-10  1.451393  0.881099  0.851735  1.261897  1.465776   \n",
              "94         2014-11  1.406155  0.873552  0.846613  1.232752  1.423846   \n",
              "95         2014-12  1.323401  0.872277  0.846740  1.146498  1.334826   \n",
              "\n",
              "carburant      SP98     écart  \n",
              "0               NaN  0.166295  \n",
              "1               NaN  0.175762  \n",
              "2               NaN  0.210547  \n",
              "3               NaN  0.234044  \n",
              "4               NaN  0.267141  \n",
              "..              ...       ...  \n",
              "91         1.546463  0.205613  \n",
              "92         1.538783  0.207576  \n",
              "93         1.516537  0.203880  \n",
              "94         1.473092  0.191094  \n",
              "95         1.391001  0.188328  \n",
              "\n",
              "[96 rows x 8 columns]"
            ],
            "text/html": [
              "\n",
              "  <div id=\"df-25ec36ab-42a8-4bad-a7db-28d6e4488d25\" class=\"colab-df-container\">\n",
              "    <div>\n",
              "<style scoped>\n",
              "    .dataframe tbody tr th:only-of-type {\n",
              "        vertical-align: middle;\n",
              "    }\n",
              "\n",
              "    .dataframe tbody tr th {\n",
              "        vertical-align: top;\n",
              "    }\n",
              "\n",
              "    .dataframe thead th {\n",
              "        text-align: right;\n",
              "    }\n",
              "</style>\n",
              "<table border=\"1\" class=\"dataframe\">\n",
              "  <thead>\n",
              "    <tr style=\"text-align: right;\">\n",
              "      <th>carburant</th>\n",
              "      <th>date</th>\n",
              "      <th>E10</th>\n",
              "      <th>E85</th>\n",
              "      <th>GPLc</th>\n",
              "      <th>Gazole</th>\n",
              "      <th>SP95</th>\n",
              "      <th>SP98</th>\n",
              "      <th>écart</th>\n",
              "    </tr>\n",
              "  </thead>\n",
              "  <tbody>\n",
              "    <tr>\n",
              "      <th>0</th>\n",
              "      <td>2007-01</td>\n",
              "      <td>NaN</td>\n",
              "      <td>0.791510</td>\n",
              "      <td>NaN</td>\n",
              "      <td>1.006874</td>\n",
              "      <td>1.173170</td>\n",
              "      <td>NaN</td>\n",
              "      <td>0.166295</td>\n",
              "    </tr>\n",
              "    <tr>\n",
              "      <th>1</th>\n",
              "      <td>2007-02</td>\n",
              "      <td>NaN</td>\n",
              "      <td>0.792355</td>\n",
              "      <td>NaN</td>\n",
              "      <td>1.015969</td>\n",
              "      <td>1.191732</td>\n",
              "      <td>NaN</td>\n",
              "      <td>0.175762</td>\n",
              "    </tr>\n",
              "    <tr>\n",
              "      <th>2</th>\n",
              "      <td>2007-03</td>\n",
              "      <td>NaN</td>\n",
              "      <td>0.793553</td>\n",
              "      <td>NaN</td>\n",
              "      <td>1.033281</td>\n",
              "      <td>1.243828</td>\n",
              "      <td>NaN</td>\n",
              "      <td>0.210547</td>\n",
              "    </tr>\n",
              "    <tr>\n",
              "      <th>3</th>\n",
              "      <td>2007-04</td>\n",
              "      <td>NaN</td>\n",
              "      <td>0.795446</td>\n",
              "      <td>NaN</td>\n",
              "      <td>1.052674</td>\n",
              "      <td>1.286718</td>\n",
              "      <td>NaN</td>\n",
              "      <td>0.234044</td>\n",
              "    </tr>\n",
              "    <tr>\n",
              "      <th>4</th>\n",
              "      <td>2007-05</td>\n",
              "      <td>NaN</td>\n",
              "      <td>0.799185</td>\n",
              "      <td>NaN</td>\n",
              "      <td>1.058717</td>\n",
              "      <td>1.325858</td>\n",
              "      <td>NaN</td>\n",
              "      <td>0.267141</td>\n",
              "    </tr>\n",
              "    <tr>\n",
              "      <th>...</th>\n",
              "      <td>...</td>\n",
              "      <td>...</td>\n",
              "      <td>...</td>\n",
              "      <td>...</td>\n",
              "      <td>...</td>\n",
              "      <td>...</td>\n",
              "      <td>...</td>\n",
              "      <td>...</td>\n",
              "    </tr>\n",
              "    <tr>\n",
              "      <th>91</th>\n",
              "      <td>2014-08</td>\n",
              "      <td>1.482784</td>\n",
              "      <td>0.866609</td>\n",
              "      <td>0.841397</td>\n",
              "      <td>1.295008</td>\n",
              "      <td>1.500621</td>\n",
              "      <td>1.546463</td>\n",
              "      <td>0.205613</td>\n",
              "    </tr>\n",
              "    <tr>\n",
              "      <th>92</th>\n",
              "      <td>2014-09</td>\n",
              "      <td>1.472585</td>\n",
              "      <td>0.868704</td>\n",
              "      <td>0.840068</td>\n",
              "      <td>1.285891</td>\n",
              "      <td>1.493466</td>\n",
              "      <td>1.538783</td>\n",
              "      <td>0.207576</td>\n",
              "    </tr>\n",
              "    <tr>\n",
              "      <th>93</th>\n",
              "      <td>2014-10</td>\n",
              "      <td>1.451393</td>\n",
              "      <td>0.881099</td>\n",
              "      <td>0.851735</td>\n",
              "      <td>1.261897</td>\n",
              "      <td>1.465776</td>\n",
              "      <td>1.516537</td>\n",
              "      <td>0.203880</td>\n",
              "    </tr>\n",
              "    <tr>\n",
              "      <th>94</th>\n",
              "      <td>2014-11</td>\n",
              "      <td>1.406155</td>\n",
              "      <td>0.873552</td>\n",
              "      <td>0.846613</td>\n",
              "      <td>1.232752</td>\n",
              "      <td>1.423846</td>\n",
              "      <td>1.473092</td>\n",
              "      <td>0.191094</td>\n",
              "    </tr>\n",
              "    <tr>\n",
              "      <th>95</th>\n",
              "      <td>2014-12</td>\n",
              "      <td>1.323401</td>\n",
              "      <td>0.872277</td>\n",
              "      <td>0.846740</td>\n",
              "      <td>1.146498</td>\n",
              "      <td>1.334826</td>\n",
              "      <td>1.391001</td>\n",
              "      <td>0.188328</td>\n",
              "    </tr>\n",
              "  </tbody>\n",
              "</table>\n",
              "<p>96 rows × 8 columns</p>\n",
              "</div>\n",
              "    <div class=\"colab-df-buttons\">\n",
              "\n",
              "  <div class=\"colab-df-container\">\n",
              "    <button class=\"colab-df-convert\" onclick=\"convertToInteractive('df-25ec36ab-42a8-4bad-a7db-28d6e4488d25')\"\n",
              "            title=\"Convert this dataframe to an interactive table.\"\n",
              "            style=\"display:none;\">\n",
              "\n",
              "  <svg xmlns=\"http://www.w3.org/2000/svg\" height=\"24px\" viewBox=\"0 -960 960 960\">\n",
              "    <path d=\"M120-120v-720h720v720H120Zm60-500h600v-160H180v160Zm220 220h160v-160H400v160Zm0 220h160v-160H400v160ZM180-400h160v-160H180v160Zm440 0h160v-160H620v160ZM180-180h160v-160H180v160Zm440 0h160v-160H620v160Z\"/>\n",
              "  </svg>\n",
              "    </button>\n",
              "\n",
              "  <style>\n",
              "    .colab-df-container {\n",
              "      display:flex;\n",
              "      gap: 12px;\n",
              "    }\n",
              "\n",
              "    .colab-df-convert {\n",
              "      background-color: #E8F0FE;\n",
              "      border: none;\n",
              "      border-radius: 50%;\n",
              "      cursor: pointer;\n",
              "      display: none;\n",
              "      fill: #1967D2;\n",
              "      height: 32px;\n",
              "      padding: 0 0 0 0;\n",
              "      width: 32px;\n",
              "    }\n",
              "\n",
              "    .colab-df-convert:hover {\n",
              "      background-color: #E2EBFA;\n",
              "      box-shadow: 0px 1px 2px rgba(60, 64, 67, 0.3), 0px 1px 3px 1px rgba(60, 64, 67, 0.15);\n",
              "      fill: #174EA6;\n",
              "    }\n",
              "\n",
              "    .colab-df-buttons div {\n",
              "      margin-bottom: 4px;\n",
              "    }\n",
              "\n",
              "    [theme=dark] .colab-df-convert {\n",
              "      background-color: #3B4455;\n",
              "      fill: #D2E3FC;\n",
              "    }\n",
              "\n",
              "    [theme=dark] .colab-df-convert:hover {\n",
              "      background-color: #434B5C;\n",
              "      box-shadow: 0px 1px 3px 1px rgba(0, 0, 0, 0.15);\n",
              "      filter: drop-shadow(0px 1px 2px rgba(0, 0, 0, 0.3));\n",
              "      fill: #FFFFFF;\n",
              "    }\n",
              "  </style>\n",
              "\n",
              "    <script>\n",
              "      const buttonEl =\n",
              "        document.querySelector('#df-25ec36ab-42a8-4bad-a7db-28d6e4488d25 button.colab-df-convert');\n",
              "      buttonEl.style.display =\n",
              "        google.colab.kernel.accessAllowed ? 'block' : 'none';\n",
              "\n",
              "      async function convertToInteractive(key) {\n",
              "        const element = document.querySelector('#df-25ec36ab-42a8-4bad-a7db-28d6e4488d25');\n",
              "        const dataTable =\n",
              "          await google.colab.kernel.invokeFunction('convertToInteractive',\n",
              "                                                    [key], {});\n",
              "        if (!dataTable) return;\n",
              "\n",
              "        const docLinkHtml = 'Like what you see? Visit the ' +\n",
              "          '<a target=\"_blank\" href=https://colab.research.google.com/notebooks/data_table.ipynb>data table notebook</a>'\n",
              "          + ' to learn more about interactive tables.';\n",
              "        element.innerHTML = '';\n",
              "        dataTable['output_type'] = 'display_data';\n",
              "        await google.colab.output.renderOutput(dataTable, element);\n",
              "        const docLink = document.createElement('div');\n",
              "        docLink.innerHTML = docLinkHtml;\n",
              "        element.appendChild(docLink);\n",
              "      }\n",
              "    </script>\n",
              "  </div>\n",
              "\n",
              "\n",
              "<div id=\"df-028123f9-90f5-4126-ae97-f068016e5327\">\n",
              "  <button class=\"colab-df-quickchart\" onclick=\"quickchart('df-028123f9-90f5-4126-ae97-f068016e5327')\"\n",
              "            title=\"Suggest charts.\"\n",
              "            style=\"display:none;\">\n",
              "\n",
              "<svg xmlns=\"http://www.w3.org/2000/svg\" height=\"24px\"viewBox=\"0 0 24 24\"\n",
              "     width=\"24px\">\n",
              "    <g>\n",
              "        <path d=\"M19 3H5c-1.1 0-2 .9-2 2v14c0 1.1.9 2 2 2h14c1.1 0 2-.9 2-2V5c0-1.1-.9-2-2-2zM9 17H7v-7h2v7zm4 0h-2V7h2v10zm4 0h-2v-4h2v4z\"/>\n",
              "    </g>\n",
              "</svg>\n",
              "  </button>\n",
              "\n",
              "<style>\n",
              "  .colab-df-quickchart {\n",
              "      --bg-color: #E8F0FE;\n",
              "      --fill-color: #1967D2;\n",
              "      --hover-bg-color: #E2EBFA;\n",
              "      --hover-fill-color: #174EA6;\n",
              "      --disabled-fill-color: #AAA;\n",
              "      --disabled-bg-color: #DDD;\n",
              "  }\n",
              "\n",
              "  [theme=dark] .colab-df-quickchart {\n",
              "      --bg-color: #3B4455;\n",
              "      --fill-color: #D2E3FC;\n",
              "      --hover-bg-color: #434B5C;\n",
              "      --hover-fill-color: #FFFFFF;\n",
              "      --disabled-bg-color: #3B4455;\n",
              "      --disabled-fill-color: #666;\n",
              "  }\n",
              "\n",
              "  .colab-df-quickchart {\n",
              "    background-color: var(--bg-color);\n",
              "    border: none;\n",
              "    border-radius: 50%;\n",
              "    cursor: pointer;\n",
              "    display: none;\n",
              "    fill: var(--fill-color);\n",
              "    height: 32px;\n",
              "    padding: 0;\n",
              "    width: 32px;\n",
              "  }\n",
              "\n",
              "  .colab-df-quickchart:hover {\n",
              "    background-color: var(--hover-bg-color);\n",
              "    box-shadow: 0 1px 2px rgba(60, 64, 67, 0.3), 0 1px 3px 1px rgba(60, 64, 67, 0.15);\n",
              "    fill: var(--button-hover-fill-color);\n",
              "  }\n",
              "\n",
              "  .colab-df-quickchart-complete:disabled,\n",
              "  .colab-df-quickchart-complete:disabled:hover {\n",
              "    background-color: var(--disabled-bg-color);\n",
              "    fill: var(--disabled-fill-color);\n",
              "    box-shadow: none;\n",
              "  }\n",
              "\n",
              "  .colab-df-spinner {\n",
              "    border: 2px solid var(--fill-color);\n",
              "    border-color: transparent;\n",
              "    border-bottom-color: var(--fill-color);\n",
              "    animation:\n",
              "      spin 1s steps(1) infinite;\n",
              "  }\n",
              "\n",
              "  @keyframes spin {\n",
              "    0% {\n",
              "      border-color: transparent;\n",
              "      border-bottom-color: var(--fill-color);\n",
              "      border-left-color: var(--fill-color);\n",
              "    }\n",
              "    20% {\n",
              "      border-color: transparent;\n",
              "      border-left-color: var(--fill-color);\n",
              "      border-top-color: var(--fill-color);\n",
              "    }\n",
              "    30% {\n",
              "      border-color: transparent;\n",
              "      border-left-color: var(--fill-color);\n",
              "      border-top-color: var(--fill-color);\n",
              "      border-right-color: var(--fill-color);\n",
              "    }\n",
              "    40% {\n",
              "      border-color: transparent;\n",
              "      border-right-color: var(--fill-color);\n",
              "      border-top-color: var(--fill-color);\n",
              "    }\n",
              "    60% {\n",
              "      border-color: transparent;\n",
              "      border-right-color: var(--fill-color);\n",
              "    }\n",
              "    80% {\n",
              "      border-color: transparent;\n",
              "      border-right-color: var(--fill-color);\n",
              "      border-bottom-color: var(--fill-color);\n",
              "    }\n",
              "    90% {\n",
              "      border-color: transparent;\n",
              "      border-bottom-color: var(--fill-color);\n",
              "    }\n",
              "  }\n",
              "</style>\n",
              "\n",
              "  <script>\n",
              "    async function quickchart(key) {\n",
              "      const quickchartButtonEl =\n",
              "        document.querySelector('#' + key + ' button');\n",
              "      quickchartButtonEl.disabled = true;  // To prevent multiple clicks.\n",
              "      quickchartButtonEl.classList.add('colab-df-spinner');\n",
              "      try {\n",
              "        const charts = await google.colab.kernel.invokeFunction(\n",
              "            'suggestCharts', [key], {});\n",
              "      } catch (error) {\n",
              "        console.error('Error during call to suggestCharts:', error);\n",
              "      }\n",
              "      quickchartButtonEl.classList.remove('colab-df-spinner');\n",
              "      quickchartButtonEl.classList.add('colab-df-quickchart-complete');\n",
              "    }\n",
              "    (() => {\n",
              "      let quickchartButtonEl =\n",
              "        document.querySelector('#df-028123f9-90f5-4126-ae97-f068016e5327 button');\n",
              "      quickchartButtonEl.style.display =\n",
              "        google.colab.kernel.accessAllowed ? 'block' : 'none';\n",
              "    })();\n",
              "  </script>\n",
              "</div>\n",
              "    </div>\n",
              "  </div>\n"
            ]
          },
          "metadata": {},
          "execution_count": 23
        }
      ]
    },
    {
      "cell_type": "markdown",
      "source": [
        "* **On a 5 catégories de carburants et Le GPLc est un carburant gazeux composé principalement de propane et de butane (Gaz de Pétrole Liquéfié pour les véhicules de type C) mais généralement il est pas considéré comme \"sans plomb\".**"
      ],
      "metadata": {
        "id": "NX3F0bW9WHKa"
      }
    },
    {
      "cell_type": "markdown",
      "source": [
        "* **On supprimer donc les lignes où la colonne 'nom' est égale à 'GPLc'**"
      ],
      "metadata": {
        "id": "P0iy1VCXZRhN"
      }
    },
    {
      "cell_type": "code",
      "source": [
        "df.drop(df[df['carburant'] == 'GPLc'].index, inplace=True)"
      ],
      "metadata": {
        "id": "QPgah2kaZDW8"
      },
      "execution_count": 24,
      "outputs": []
    },
    {
      "cell_type": "markdown",
      "source": [
        "* **A part le gazole toutes les catégorie de carburants restant entrent dans la catégorie Sans_Plomb**"
      ],
      "metadata": {
        "id": "CqTPL1Jzru2a"
      }
    },
    {
      "cell_type": "code",
      "source": [
        "carburants = {'Gazole': 'Gazole', 'SP95': 'Sans Plomb', 'SP98': 'Sans Plomb', 'E10': 'Sans Plomb', 'E85': 'Sans Plomb'}\n",
        "df['carburant'] = df['carburant'].map(carburants)"
      ],
      "metadata": {
        "id": "TI0TUl64rvW8"
      },
      "execution_count": 25,
      "outputs": []
    },
    {
      "cell_type": "code",
      "source": [
        "df"
      ],
      "metadata": {
        "colab": {
          "base_uri": "https://localhost:8080/",
          "height": 423
        },
        "id": "Q5Y18uVLxgiW",
        "outputId": "fbea04fa-36e1-4860-f203-69c1696096c4"
      },
      "execution_count": 26,
      "outputs": [
        {
          "output_type": "execute_result",
          "data": {
            "text/plain": [
              "           carburant                   date_maj   prix  mois  annee annee_mois\n",
              "0             Gazole 2007-01-04 18:43:38.841521  0.999     1   2007    2007-01\n",
              "1             Gazole 2007-01-09 08:32:48.501587  0.999     1   2007    2007-01\n",
              "2             Gazole 2007-01-12 08:42:13.582039  0.989     1   2007    2007-01\n",
              "3             Gazole 2007-01-16 16:18:28.004618  0.988     1   2007    2007-01\n",
              "4             Gazole 2007-01-17 09:16:37.487625  0.988     1   2007    2007-01\n",
              "...              ...                        ...    ...   ...    ...        ...\n",
              "13001591  Sans Plomb 2014-12-23 06:20:36.000000  1.339    12   2014    2014-12\n",
              "13001592  Sans Plomb 2014-12-24 05:52:33.000000  1.333    12   2014    2014-12\n",
              "13001593  Sans Plomb 2014-12-26 06:53:16.000000  1.329    12   2014    2014-12\n",
              "13001594  Sans Plomb 2014-12-29 08:18:04.000000  1.325    12   2014    2014-12\n",
              "13001595  Sans Plomb 2014-12-30 06:07:21.000000  1.322    12   2014    2014-12\n",
              "\n",
              "[12502082 rows x 6 columns]"
            ],
            "text/html": [
              "\n",
              "  <div id=\"df-c90c240b-5679-4417-8de5-0697aa3c9bf8\" class=\"colab-df-container\">\n",
              "    <div>\n",
              "<style scoped>\n",
              "    .dataframe tbody tr th:only-of-type {\n",
              "        vertical-align: middle;\n",
              "    }\n",
              "\n",
              "    .dataframe tbody tr th {\n",
              "        vertical-align: top;\n",
              "    }\n",
              "\n",
              "    .dataframe thead th {\n",
              "        text-align: right;\n",
              "    }\n",
              "</style>\n",
              "<table border=\"1\" class=\"dataframe\">\n",
              "  <thead>\n",
              "    <tr style=\"text-align: right;\">\n",
              "      <th></th>\n",
              "      <th>carburant</th>\n",
              "      <th>date_maj</th>\n",
              "      <th>prix</th>\n",
              "      <th>mois</th>\n",
              "      <th>annee</th>\n",
              "      <th>annee_mois</th>\n",
              "    </tr>\n",
              "  </thead>\n",
              "  <tbody>\n",
              "    <tr>\n",
              "      <th>0</th>\n",
              "      <td>Gazole</td>\n",
              "      <td>2007-01-04 18:43:38.841521</td>\n",
              "      <td>0.999</td>\n",
              "      <td>1</td>\n",
              "      <td>2007</td>\n",
              "      <td>2007-01</td>\n",
              "    </tr>\n",
              "    <tr>\n",
              "      <th>1</th>\n",
              "      <td>Gazole</td>\n",
              "      <td>2007-01-09 08:32:48.501587</td>\n",
              "      <td>0.999</td>\n",
              "      <td>1</td>\n",
              "      <td>2007</td>\n",
              "      <td>2007-01</td>\n",
              "    </tr>\n",
              "    <tr>\n",
              "      <th>2</th>\n",
              "      <td>Gazole</td>\n",
              "      <td>2007-01-12 08:42:13.582039</td>\n",
              "      <td>0.989</td>\n",
              "      <td>1</td>\n",
              "      <td>2007</td>\n",
              "      <td>2007-01</td>\n",
              "    </tr>\n",
              "    <tr>\n",
              "      <th>3</th>\n",
              "      <td>Gazole</td>\n",
              "      <td>2007-01-16 16:18:28.004618</td>\n",
              "      <td>0.988</td>\n",
              "      <td>1</td>\n",
              "      <td>2007</td>\n",
              "      <td>2007-01</td>\n",
              "    </tr>\n",
              "    <tr>\n",
              "      <th>4</th>\n",
              "      <td>Gazole</td>\n",
              "      <td>2007-01-17 09:16:37.487625</td>\n",
              "      <td>0.988</td>\n",
              "      <td>1</td>\n",
              "      <td>2007</td>\n",
              "      <td>2007-01</td>\n",
              "    </tr>\n",
              "    <tr>\n",
              "      <th>...</th>\n",
              "      <td>...</td>\n",
              "      <td>...</td>\n",
              "      <td>...</td>\n",
              "      <td>...</td>\n",
              "      <td>...</td>\n",
              "      <td>...</td>\n",
              "    </tr>\n",
              "    <tr>\n",
              "      <th>13001591</th>\n",
              "      <td>Sans Plomb</td>\n",
              "      <td>2014-12-23 06:20:36.000000</td>\n",
              "      <td>1.339</td>\n",
              "      <td>12</td>\n",
              "      <td>2014</td>\n",
              "      <td>2014-12</td>\n",
              "    </tr>\n",
              "    <tr>\n",
              "      <th>13001592</th>\n",
              "      <td>Sans Plomb</td>\n",
              "      <td>2014-12-24 05:52:33.000000</td>\n",
              "      <td>1.333</td>\n",
              "      <td>12</td>\n",
              "      <td>2014</td>\n",
              "      <td>2014-12</td>\n",
              "    </tr>\n",
              "    <tr>\n",
              "      <th>13001593</th>\n",
              "      <td>Sans Plomb</td>\n",
              "      <td>2014-12-26 06:53:16.000000</td>\n",
              "      <td>1.329</td>\n",
              "      <td>12</td>\n",
              "      <td>2014</td>\n",
              "      <td>2014-12</td>\n",
              "    </tr>\n",
              "    <tr>\n",
              "      <th>13001594</th>\n",
              "      <td>Sans Plomb</td>\n",
              "      <td>2014-12-29 08:18:04.000000</td>\n",
              "      <td>1.325</td>\n",
              "      <td>12</td>\n",
              "      <td>2014</td>\n",
              "      <td>2014-12</td>\n",
              "    </tr>\n",
              "    <tr>\n",
              "      <th>13001595</th>\n",
              "      <td>Sans Plomb</td>\n",
              "      <td>2014-12-30 06:07:21.000000</td>\n",
              "      <td>1.322</td>\n",
              "      <td>12</td>\n",
              "      <td>2014</td>\n",
              "      <td>2014-12</td>\n",
              "    </tr>\n",
              "  </tbody>\n",
              "</table>\n",
              "<p>12502082 rows × 6 columns</p>\n",
              "</div>\n",
              "    <div class=\"colab-df-buttons\">\n",
              "\n",
              "  <div class=\"colab-df-container\">\n",
              "    <button class=\"colab-df-convert\" onclick=\"convertToInteractive('df-c90c240b-5679-4417-8de5-0697aa3c9bf8')\"\n",
              "            title=\"Convert this dataframe to an interactive table.\"\n",
              "            style=\"display:none;\">\n",
              "\n",
              "  <svg xmlns=\"http://www.w3.org/2000/svg\" height=\"24px\" viewBox=\"0 -960 960 960\">\n",
              "    <path d=\"M120-120v-720h720v720H120Zm60-500h600v-160H180v160Zm220 220h160v-160H400v160Zm0 220h160v-160H400v160ZM180-400h160v-160H180v160Zm440 0h160v-160H620v160ZM180-180h160v-160H180v160Zm440 0h160v-160H620v160Z\"/>\n",
              "  </svg>\n",
              "    </button>\n",
              "\n",
              "  <style>\n",
              "    .colab-df-container {\n",
              "      display:flex;\n",
              "      gap: 12px;\n",
              "    }\n",
              "\n",
              "    .colab-df-convert {\n",
              "      background-color: #E8F0FE;\n",
              "      border: none;\n",
              "      border-radius: 50%;\n",
              "      cursor: pointer;\n",
              "      display: none;\n",
              "      fill: #1967D2;\n",
              "      height: 32px;\n",
              "      padding: 0 0 0 0;\n",
              "      width: 32px;\n",
              "    }\n",
              "\n",
              "    .colab-df-convert:hover {\n",
              "      background-color: #E2EBFA;\n",
              "      box-shadow: 0px 1px 2px rgba(60, 64, 67, 0.3), 0px 1px 3px 1px rgba(60, 64, 67, 0.15);\n",
              "      fill: #174EA6;\n",
              "    }\n",
              "\n",
              "    .colab-df-buttons div {\n",
              "      margin-bottom: 4px;\n",
              "    }\n",
              "\n",
              "    [theme=dark] .colab-df-convert {\n",
              "      background-color: #3B4455;\n",
              "      fill: #D2E3FC;\n",
              "    }\n",
              "\n",
              "    [theme=dark] .colab-df-convert:hover {\n",
              "      background-color: #434B5C;\n",
              "      box-shadow: 0px 1px 3px 1px rgba(0, 0, 0, 0.15);\n",
              "      filter: drop-shadow(0px 1px 2px rgba(0, 0, 0, 0.3));\n",
              "      fill: #FFFFFF;\n",
              "    }\n",
              "  </style>\n",
              "\n",
              "    <script>\n",
              "      const buttonEl =\n",
              "        document.querySelector('#df-c90c240b-5679-4417-8de5-0697aa3c9bf8 button.colab-df-convert');\n",
              "      buttonEl.style.display =\n",
              "        google.colab.kernel.accessAllowed ? 'block' : 'none';\n",
              "\n",
              "      async function convertToInteractive(key) {\n",
              "        const element = document.querySelector('#df-c90c240b-5679-4417-8de5-0697aa3c9bf8');\n",
              "        const dataTable =\n",
              "          await google.colab.kernel.invokeFunction('convertToInteractive',\n",
              "                                                    [key], {});\n",
              "        if (!dataTable) return;\n",
              "\n",
              "        const docLinkHtml = 'Like what you see? Visit the ' +\n",
              "          '<a target=\"_blank\" href=https://colab.research.google.com/notebooks/data_table.ipynb>data table notebook</a>'\n",
              "          + ' to learn more about interactive tables.';\n",
              "        element.innerHTML = '';\n",
              "        dataTable['output_type'] = 'display_data';\n",
              "        await google.colab.output.renderOutput(dataTable, element);\n",
              "        const docLink = document.createElement('div');\n",
              "        docLink.innerHTML = docLinkHtml;\n",
              "        element.appendChild(docLink);\n",
              "      }\n",
              "    </script>\n",
              "  </div>\n",
              "\n",
              "\n",
              "<div id=\"df-22b744a6-a10b-4548-a3f0-59af3a591474\">\n",
              "  <button class=\"colab-df-quickchart\" onclick=\"quickchart('df-22b744a6-a10b-4548-a3f0-59af3a591474')\"\n",
              "            title=\"Suggest charts.\"\n",
              "            style=\"display:none;\">\n",
              "\n",
              "<svg xmlns=\"http://www.w3.org/2000/svg\" height=\"24px\"viewBox=\"0 0 24 24\"\n",
              "     width=\"24px\">\n",
              "    <g>\n",
              "        <path d=\"M19 3H5c-1.1 0-2 .9-2 2v14c0 1.1.9 2 2 2h14c1.1 0 2-.9 2-2V5c0-1.1-.9-2-2-2zM9 17H7v-7h2v7zm4 0h-2V7h2v10zm4 0h-2v-4h2v4z\"/>\n",
              "    </g>\n",
              "</svg>\n",
              "  </button>\n",
              "\n",
              "<style>\n",
              "  .colab-df-quickchart {\n",
              "      --bg-color: #E8F0FE;\n",
              "      --fill-color: #1967D2;\n",
              "      --hover-bg-color: #E2EBFA;\n",
              "      --hover-fill-color: #174EA6;\n",
              "      --disabled-fill-color: #AAA;\n",
              "      --disabled-bg-color: #DDD;\n",
              "  }\n",
              "\n",
              "  [theme=dark] .colab-df-quickchart {\n",
              "      --bg-color: #3B4455;\n",
              "      --fill-color: #D2E3FC;\n",
              "      --hover-bg-color: #434B5C;\n",
              "      --hover-fill-color: #FFFFFF;\n",
              "      --disabled-bg-color: #3B4455;\n",
              "      --disabled-fill-color: #666;\n",
              "  }\n",
              "\n",
              "  .colab-df-quickchart {\n",
              "    background-color: var(--bg-color);\n",
              "    border: none;\n",
              "    border-radius: 50%;\n",
              "    cursor: pointer;\n",
              "    display: none;\n",
              "    fill: var(--fill-color);\n",
              "    height: 32px;\n",
              "    padding: 0;\n",
              "    width: 32px;\n",
              "  }\n",
              "\n",
              "  .colab-df-quickchart:hover {\n",
              "    background-color: var(--hover-bg-color);\n",
              "    box-shadow: 0 1px 2px rgba(60, 64, 67, 0.3), 0 1px 3px 1px rgba(60, 64, 67, 0.15);\n",
              "    fill: var(--button-hover-fill-color);\n",
              "  }\n",
              "\n",
              "  .colab-df-quickchart-complete:disabled,\n",
              "  .colab-df-quickchart-complete:disabled:hover {\n",
              "    background-color: var(--disabled-bg-color);\n",
              "    fill: var(--disabled-fill-color);\n",
              "    box-shadow: none;\n",
              "  }\n",
              "\n",
              "  .colab-df-spinner {\n",
              "    border: 2px solid var(--fill-color);\n",
              "    border-color: transparent;\n",
              "    border-bottom-color: var(--fill-color);\n",
              "    animation:\n",
              "      spin 1s steps(1) infinite;\n",
              "  }\n",
              "\n",
              "  @keyframes spin {\n",
              "    0% {\n",
              "      border-color: transparent;\n",
              "      border-bottom-color: var(--fill-color);\n",
              "      border-left-color: var(--fill-color);\n",
              "    }\n",
              "    20% {\n",
              "      border-color: transparent;\n",
              "      border-left-color: var(--fill-color);\n",
              "      border-top-color: var(--fill-color);\n",
              "    }\n",
              "    30% {\n",
              "      border-color: transparent;\n",
              "      border-left-color: var(--fill-color);\n",
              "      border-top-color: var(--fill-color);\n",
              "      border-right-color: var(--fill-color);\n",
              "    }\n",
              "    40% {\n",
              "      border-color: transparent;\n",
              "      border-right-color: var(--fill-color);\n",
              "      border-top-color: var(--fill-color);\n",
              "    }\n",
              "    60% {\n",
              "      border-color: transparent;\n",
              "      border-right-color: var(--fill-color);\n",
              "    }\n",
              "    80% {\n",
              "      border-color: transparent;\n",
              "      border-right-color: var(--fill-color);\n",
              "      border-bottom-color: var(--fill-color);\n",
              "    }\n",
              "    90% {\n",
              "      border-color: transparent;\n",
              "      border-bottom-color: var(--fill-color);\n",
              "    }\n",
              "  }\n",
              "</style>\n",
              "\n",
              "  <script>\n",
              "    async function quickchart(key) {\n",
              "      const quickchartButtonEl =\n",
              "        document.querySelector('#' + key + ' button');\n",
              "      quickchartButtonEl.disabled = true;  // To prevent multiple clicks.\n",
              "      quickchartButtonEl.classList.add('colab-df-spinner');\n",
              "      try {\n",
              "        const charts = await google.colab.kernel.invokeFunction(\n",
              "            'suggestCharts', [key], {});\n",
              "      } catch (error) {\n",
              "        console.error('Error during call to suggestCharts:', error);\n",
              "      }\n",
              "      quickchartButtonEl.classList.remove('colab-df-spinner');\n",
              "      quickchartButtonEl.classList.add('colab-df-quickchart-complete');\n",
              "    }\n",
              "    (() => {\n",
              "      let quickchartButtonEl =\n",
              "        document.querySelector('#df-22b744a6-a10b-4548-a3f0-59af3a591474 button');\n",
              "      quickchartButtonEl.style.display =\n",
              "        google.colab.kernel.accessAllowed ? 'block' : 'none';\n",
              "    })();\n",
              "  </script>\n",
              "</div>\n",
              "    </div>\n",
              "  </div>\n"
            ]
          },
          "metadata": {},
          "execution_count": 26
        }
      ]
    },
    {
      "cell_type": "markdown",
      "source": [
        "* **Évolution des prix du carburant Gazole et Sans Plomb de l'année 2007 à 2015**"
      ],
      "metadata": {
        "id": "1x-ku74Z99UD"
      }
    },
    {
      "cell_type": "code",
      "source": [
        "# Groupement et calcul de la moyenne des prix par carburant et année-mois\n",
        "moyenne_mensuelle = df.groupby(['annee', 'mois', 'carburant'])['prix'].mean().unstack().reset_index()\n",
        "# # Supprimez l'index et réinitialisez-le\n",
        "# moyenne_mensuelle = moyenne_mensuelle.reset_index(drop=True)\n",
        "moyenne_mensuelle['date'] = pd.to_datetime(moyenne_mensuelle['annee'].astype(str) + '-' + moyenne_mensuelle['mois'].astype(str) + '-01')\n",
        "# moyenne_mensuelle['date'] = moyenne_mensuelle['date'].dt.strftime('%Y-%m')\n",
        "moyenne_mensuelle.set_index('date', inplace=True)"
      ],
      "metadata": {
        "id": "nx5kCde8x64P"
      },
      "execution_count": 30,
      "outputs": []
    },
    {
      "cell_type": "code",
      "source": [
        "# Créez une figure et des axes\n",
        "fig, ax1 = plt.subplots(figsize=(10, 6))\n",
        "\n",
        "# Créez un graphique de ligne pour Gazole et Sans Plomb\n",
        "ax1.plot(moyenne_mensuelle.index, moyenne_mensuelle['Gazole'], label='Gazole', color='b')\n",
        "ax1.plot(moyenne_mensuelle.index, moyenne_mensuelle['Sans Plomb'], label='Sans Plomb', color='g')\n",
        "ax1.set_xlabel('Année-Mois')\n",
        "ax1.set_ylabel('Prix', color='b')\n",
        "ax1.set_title('Évolution des prix du carburant par année-mois')\n",
        "ax1.tick_params(axis='y', labelcolor='b')\n",
        "ax1.legend(loc='upper left')\n",
        "\n",
        "# Assurez-vous que la colonne 'date' est de type datetime\n",
        "df_ecart['date'] = pd.to_datetime(df_ecart['date'])\n",
        "\n",
        "# Créez un deuxième axe y pour les écarts\n",
        "ax2 = ax1.twinx()\n",
        "ax2.plot(df_ecart['date'], df_ecart['écart'], label='Écart SP95/Gazole', color='r')\n",
        "ax2.set_ylabel('Écart', color='r')\n",
        "ax2.tick_params(axis='y', labelcolor='r')\n",
        "ax2.legend(loc='upper right')\n",
        "\n",
        "# Affichez le graphique\n",
        "plt.xticks(rotation=45)\n",
        "plt.grid(True)\n",
        "plt.show()"
      ],
      "metadata": {
        "colab": {
          "base_uri": "https://localhost:8080/",
          "height": 567
        },
        "id": "tNVWsXNBXHy-",
        "outputId": "3c29bb93-09f8-4c19-a936-1bfa77752c80"
      },
      "execution_count": 31,
      "outputs": [
        {
          "output_type": "display_data",
          "data": {
            "text/plain": [
              "<Figure size 1000x600 with 2 Axes>"
            ],
            "image/png": "[encoded data removed]"
          },
          "metadata": {}
        }
      ]
    }
  ]
}